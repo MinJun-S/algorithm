{
 "cells": [
  {
   "cell_type": "markdown",
   "id": "7c0e2072",
   "metadata": {},
   "source": [
    "15649(N과 M(1))"
   ]
  },
  {
   "cell_type": "code",
   "execution_count": 131,
   "id": "8f5bd93d",
   "metadata": {},
   "outputs": [
    {
     "name": "stdout",
     "output_type": "stream",
     "text": [
      "3 2\n",
      "1 2 \n",
      "1 3 \n",
      "2 1 \n",
      "2 3 \n",
      "3 1 \n",
      "3 2 \n"
     ]
    }
   ],
   "source": [
    "import itertools\n",
    "n, m = map(int, input().split())\n",
    "data = list(itertools.permutations(range(1,n + 1), m))\n",
    "for i in data:\n",
    "    for j in i:\n",
    "        print(j, end=' ')\n",
    "    print()"
   ]
  },
  {
   "cell_type": "code",
   "execution_count": 57,
   "id": "8e692aa8",
   "metadata": {},
   "outputs": [
    {
     "name": "stdout",
     "output_type": "stream",
     "text": [
      "3 2\n",
      "1 2\n",
      "1 3\n",
      "2 1\n",
      "2 3\n",
      "3 1\n",
      "3 2\n"
     ]
    }
   ],
   "source": [
    "n, m = map(int, input().split())\n",
    "result = []\n",
    "def dfs():\n",
    "    if len(result) == m:\n",
    "        print(' '.join(map(str,result)))\n",
    "        return\n",
    "    for i in range(1, n + 1):\n",
    "        if i not in result:\n",
    "            result.append(i)\n",
    "            dfs()\n",
    "            result.pop()\n",
    "dfs()"
   ]
  },
  {
   "cell_type": "markdown",
   "id": "2bdc4db0",
   "metadata": {},
   "source": [
    "15650(N과 M(2))"
   ]
  },
  {
   "cell_type": "code",
   "execution_count": 132,
   "id": "26c0032c",
   "metadata": {},
   "outputs": [
    {
     "name": "stdout",
     "output_type": "stream",
     "text": [
      "4 2\n",
      "1 2 \n",
      "1 3 \n",
      "1 4 \n",
      "2 3 \n",
      "2 4 \n",
      "3 4 \n"
     ]
    }
   ],
   "source": [
    "import itertools\n",
    "n, m = map(int, input().split())\n",
    "data = list(itertools.combinations(range(1,n + 1), m))\n",
    "for i in data:\n",
    "    for j in i:\n",
    "        print(j, end=' ')\n",
    "    print()"
   ]
  },
  {
   "cell_type": "code",
   "execution_count": 67,
   "id": "2b9cebb2",
   "metadata": {},
   "outputs": [
    {
     "name": "stdout",
     "output_type": "stream",
     "text": [
      "4 3\n",
      "1 2 3\n",
      "1 2 4\n",
      "1 3 4\n",
      "2 3 4\n"
     ]
    }
   ],
   "source": [
    "n, m = map(int, input().split())\n",
    "result = []\n",
    "def dfs(start):\n",
    "    if len(result) == m:\n",
    "        print(' '.join(map(str,result)))\n",
    "        return\n",
    "    for i in range(start, n + 1):\n",
    "        if i not in result:\n",
    "            result.append(i)\n",
    "            dfs(i + 1)\n",
    "            result.pop()\n",
    "dfs(1)"
   ]
  },
  {
   "cell_type": "markdown",
   "id": "c62f0284",
   "metadata": {},
   "source": [
    "15651(N과 M(3))"
   ]
  },
  {
   "cell_type": "code",
   "execution_count": 50,
   "id": "391015fb",
   "metadata": {},
   "outputs": [
    {
     "name": "stdout",
     "output_type": "stream",
     "text": [
      "3 2\n",
      "1 1 \n",
      "1 2 \n",
      "1 3 \n",
      "2 1 \n",
      "2 2 \n",
      "2 3 \n",
      "3 1 \n",
      "3 2 \n",
      "3 3 \n"
     ]
    }
   ],
   "source": [
    "import itertools\n",
    "n, m = map(int, input().split())\n",
    "data = list(itertools.product(range(1,n + 1), repeat = m))\n",
    "for i in data:\n",
    "    for j in i:\n",
    "        print(j, end=' ')\n",
    "    print()"
   ]
  },
  {
   "cell_type": "code",
   "execution_count": 69,
   "id": "b5cb1d4c",
   "metadata": {},
   "outputs": [
    {
     "name": "stdout",
     "output_type": "stream",
     "text": [
      "3 2\n",
      "1 1\n",
      "1 2\n",
      "1 3\n",
      "2 1\n",
      "2 2\n",
      "2 3\n",
      "3 1\n",
      "3 2\n",
      "3 3\n"
     ]
    }
   ],
   "source": [
    "n, m = map(int, input().split())\n",
    "result = []\n",
    "def dfs():\n",
    "    if len(result) == m:\n",
    "        print(' '.join(map(str,result)))\n",
    "        return\n",
    "    for i in range(1, n + 1):\n",
    "        result.append(i)\n",
    "        dfs()\n",
    "        result.pop()\n",
    "dfs()"
   ]
  },
  {
   "cell_type": "markdown",
   "id": "a7ae34b5",
   "metadata": {},
   "source": [
    "15652(N과 M(4))"
   ]
  },
  {
   "cell_type": "code",
   "execution_count": 53,
   "id": "4bec5347",
   "metadata": {},
   "outputs": [
    {
     "name": "stdout",
     "output_type": "stream",
     "text": [
      "3 2\n",
      "1 1 \n",
      "1 2 \n",
      "1 3 \n",
      "2 2 \n",
      "2 3 \n",
      "3 3 \n"
     ]
    }
   ],
   "source": [
    "import itertools\n",
    "n, m = map(int, input().split())\n",
    "data = list(itertools.combinations_with_replacement(range(1,n + 1), m))\n",
    "for i in data:\n",
    "    for j in i:\n",
    "        print(j, end=' ')\n",
    "    print()"
   ]
  },
  {
   "cell_type": "code",
   "execution_count": 71,
   "id": "31be5b1c",
   "metadata": {},
   "outputs": [
    {
     "name": "stdout",
     "output_type": "stream",
     "text": [
      "3 2\n",
      "1 1\n",
      "1 2\n",
      "1 3\n",
      "2 2\n",
      "2 3\n",
      "3 3\n"
     ]
    }
   ],
   "source": [
    "n, m = map(int, input().split())\n",
    "result = []\n",
    "def dfs(start):\n",
    "    if len(result) == m:\n",
    "        print(' '.join(map(str,result)))\n",
    "        return\n",
    "    for i in range(start, n + 1):\n",
    "        result.append(i)\n",
    "        dfs(i)\n",
    "        result.pop()\n",
    "dfs(1)"
   ]
  },
  {
   "cell_type": "markdown",
   "id": "6cc9d283",
   "metadata": {},
   "source": [
    "14888(연산자 끼워넣기)"
   ]
  },
  {
   "cell_type": "code",
   "execution_count": 130,
   "id": "ee95c09a",
   "metadata": {},
   "outputs": [
    {
     "name": "stdout",
     "output_type": "stream",
     "text": [
      "6\n",
      "1 2 3 4 5 6\n",
      "2 1 1 1\n",
      "54\n",
      "-24\n"
     ]
    }
   ],
   "source": [
    "import itertools\n",
    "n = int(input())\n",
    "num = list(map(int, input().split()))\n",
    "operator = list(map(int, input().split()))\n",
    "max_n, min_n = -1000000000, 1000000000\n",
    "\n",
    "data = []\n",
    "for x,y in enumerate(operator):\n",
    "    data += [x] * y\n",
    "    \n",
    "comb = list(itertools.permutations(data, n - 1))\n",
    "for comb_temp in set(comb):\n",
    "    temp = num[0]\n",
    "    for i, j in enumerate(comb_temp):\n",
    "        if j == 0:\n",
    "            temp += num[i + 1]\n",
    "        if j == 1:\n",
    "            temp -= num[i + 1]\n",
    "        if j == 2:\n",
    "            temp *= num[i + 1]\n",
    "        if j == 3:\n",
    "            if temp < 0 or num[i + 1] < 0:\n",
    "                temp = -(abs(temp) // abs(num[i + 1]))\n",
    "            else:\n",
    "                temp //= num[i + 1]\n",
    "    if max_n < temp:\n",
    "        max_n = temp\n",
    "    if min_n > temp:\n",
    "        min_n = temp\n",
    "print(max_n)\n",
    "print(min_n)"
   ]
  },
  {
   "cell_type": "markdown",
   "id": "1264ceb7",
   "metadata": {},
   "source": [
    "14889(스타트와 링크)"
   ]
  },
  {
   "cell_type": "code",
   "execution_count": 15,
   "id": "0d4f1196",
   "metadata": {
    "scrolled": true
   },
   "outputs": [
    {
     "name": "stdout",
     "output_type": "stream",
     "text": [
      "8\n",
      "0 5 4 5 4 5 4 5\n",
      "4 0 5 1 2 3 4 5\n",
      "9 8 0 1 2 3 1 2\n",
      "9 9 9 0 9 9 9 9\n",
      "1 1 1 1 0 1 1 1\n",
      "8 7 6 5 4 0 3 2\n",
      "9 1 9 1 9 1 0 9\n",
      "6 5 4 3 2 1 9 0\n"
     ]
    },
    {
     "data": {
      "text/plain": [
       "1"
      ]
     },
     "execution_count": 15,
     "metadata": {},
     "output_type": "execute_result"
    }
   ],
   "source": [
    "import itertools\n",
    "n = int(input())\n",
    "data = [list(map(int, input().split())) for _ in range(n)]\n",
    "comb = list(itertools.combinations(range(n), n//2))\n",
    "result = 100\n",
    "cnt = 0\n",
    "\n",
    "def cal(arr):\n",
    "    temp = 0\n",
    "    for i in arr:\n",
    "        temp += data[i[0]][i[1]]\n",
    "    return temp            \n",
    "\n",
    "while cnt < len(comb) - cnt:\n",
    "    cal1 = cal(list(itertools.permutations(comb[cnt], 2)))\n",
    "    cal2 = cal(list(itertools.permutations(comb[len(comb) - cnt - 1], 2)))\n",
    "    if result > abs(cal1 - cal2):\n",
    "        result = abs(cal1 - cal2)\n",
    "    cnt += 1\n",
    "result"
   ]
  }
 ],
 "metadata": {
  "kernelspec": {
   "display_name": "Python 3",
   "language": "python",
   "name": "python3"
  },
  "language_info": {
   "codemirror_mode": {
    "name": "ipython",
    "version": 3
   },
   "file_extension": ".py",
   "mimetype": "text/x-python",
   "name": "python",
   "nbconvert_exporter": "python",
   "pygments_lexer": "ipython3",
   "version": "3.8.8"
  }
 },
 "nbformat": 4,
 "nbformat_minor": 5
}
