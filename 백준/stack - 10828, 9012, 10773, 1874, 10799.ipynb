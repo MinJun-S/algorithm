{
 "cells": [
  {
   "cell_type": "markdown",
   "id": "6d347a61",
   "metadata": {},
   "source": [
    "10773(제로)"
   ]
  },
  {
   "cell_type": "code",
   "execution_count": 10,
   "id": "b39f595b",
   "metadata": {},
   "outputs": [
    {
     "name": "stdout",
     "output_type": "stream",
     "text": [
      "4\n",
      "3\n",
      "0\n",
      "3\n",
      "0\n",
      "0\n"
     ]
    }
   ],
   "source": [
    "k = int(input())\n",
    "data = []\n",
    "for _ in range(k):\n",
    "    temp = int(input())\n",
    "    if data and temp == 0:\n",
    "        data.pop()\n",
    "    else:\n",
    "        data.append(temp)\n",
    "\n",
    "print(sum(data))"
   ]
  },
  {
   "cell_type": "markdown",
   "id": "42cf9957",
   "metadata": {},
   "source": [
    "9012(괄호)"
   ]
  },
  {
   "cell_type": "code",
   "execution_count": 18,
   "id": "05e4084a",
   "metadata": {},
   "outputs": [
    {
     "name": "stdout",
     "output_type": "stream",
     "text": [
      "3\n",
      "((\n",
      "NO\n",
      "['(', '('] ['(', '(']\n",
      "))\n",
      "NO\n",
      "[')'] [')', ')']\n",
      "())(()\n",
      "NO\n",
      "[')'] ['(', ')', ')', '(', '(', ')']\n"
     ]
    }
   ],
   "source": [
    "t = int(input())\n",
    "for _ in range(t):\n",
    "    stack = []\n",
    "    data = list(map(str, input()))\n",
    "    for temp in data:\n",
    "        if len(stack) == 0 and temp == ')':\n",
    "            stack.append(temp)\n",
    "            break\n",
    "        elif stack and temp == ')':\n",
    "            stack.pop()\n",
    "        else:\n",
    "            stack.append(temp)\n",
    "    if stack:\n",
    "        print('NO')\n",
    "    else:\n",
    "        print('YES')"
   ]
  },
  {
   "cell_type": "markdown",
   "id": "18a6a131",
   "metadata": {},
   "source": [
    "1874(스택 수열)"
   ]
  },
  {
   "cell_type": "code",
   "execution_count": 9,
   "id": "562a7cd7",
   "metadata": {},
   "outputs": [
    {
     "name": "stdout",
     "output_type": "stream",
     "text": [
      "5\n",
      "1\n",
      "2\n",
      "3\n",
      "4\n",
      "5\n",
      "+\n",
      "-\n",
      "+\n",
      "-\n",
      "+\n",
      "-\n",
      "+\n",
      "-\n",
      "+\n",
      "-\n"
     ]
    }
   ],
   "source": [
    "n = int(input())\n",
    "data = []\n",
    "cnt = 1\n",
    "result = []\n",
    "for _ in range(n):\n",
    "    temp = int(input())\n",
    "    while True:\n",
    "        if data:\n",
    "            if data[-1] == temp:\n",
    "                data.pop()\n",
    "                result.append('-')\n",
    "                break\n",
    "            elif data[-1] > temp:\n",
    "                result.append('NO')\n",
    "                break\n",
    "            elif data[-1] != temp:\n",
    "                result.append('+')\n",
    "                data.append(cnt)\n",
    "                cnt += 1\n",
    "            else:\n",
    "                break\n",
    "        else:\n",
    "            result.append('+')\n",
    "            data.append(cnt)\n",
    "            cnt += 1\n",
    "    if result[-1] == 'NO':\n",
    "        print('NO')\n",
    "        break\n",
    "else:\n",
    "    for i in result:\n",
    "        print(i)"
   ]
  },
  {
   "cell_type": "markdown",
   "id": "98ee4158",
   "metadata": {},
   "source": [
    "10828(스택)"
   ]
  },
  {
   "cell_type": "code",
   "execution_count": 16,
   "id": "3e27aa38",
   "metadata": {},
   "outputs": [
    {
     "name": "stdout",
     "output_type": "stream",
     "text": [
      "14\n",
      "push 1\n",
      "push 2\n",
      "top\n",
      "2\n",
      "size\n",
      "2\n",
      "empty\n",
      "0\n",
      "pop\n",
      "2\n",
      "pop\n",
      "1\n",
      "pop\n",
      "-1\n",
      "size\n",
      "0\n",
      "empty\n",
      "1\n",
      "pop\n",
      "-1\n",
      "push 3\n",
      "empty\n",
      "0\n",
      "top\n",
      "3\n"
     ]
    }
   ],
   "source": [
    "n = int(input())\n",
    "stack = []\n",
    "for _ in range(n):\n",
    "    temp = list(map(str, input().split()))\n",
    "    if temp[0] == 'push':\n",
    "        stack.append(int(temp[1]))\n",
    "    elif temp[0] == 'pop':\n",
    "        if stack:\n",
    "            print(stack.pop())\n",
    "        else:\n",
    "            print(-1)\n",
    "    elif temp[0] == 'size':\n",
    "        print(len(stack))\n",
    "    elif temp[0] == 'empty':\n",
    "        if stack:\n",
    "            print(0)\n",
    "        else:\n",
    "            print(1)\n",
    "    else:\n",
    "        if stack:\n",
    "            print(stack[-1])\n",
    "        else:\n",
    "            print(-1)"
   ]
  },
  {
   "cell_type": "markdown",
   "id": "b8c2e44b",
   "metadata": {},
   "source": [
    "10779(쇠막대기)"
   ]
  },
  {
   "cell_type": "code",
   "execution_count": 31,
   "id": "4e1baf5a",
   "metadata": {},
   "outputs": [
    {
     "name": "stdout",
     "output_type": "stream",
     "text": [
      "(((()(()()))(())()))(()())\n",
      "24\n"
     ]
    }
   ],
   "source": [
    "data = list(map(str, input()))\n",
    "result, check = 0, 0\n",
    "stack = []\n",
    "for i in data:\n",
    "    if i == '(':\n",
    "        stack.append(i)\n",
    "        check = 0\n",
    "    else:\n",
    "        if check == 1:\n",
    "            stack.pop()\n",
    "            result += 1\n",
    "        else:\n",
    "            stack.pop()\n",
    "            result += len(stack)\n",
    "            check = 1\n",
    "print(result)"
   ]
  }
 ],
 "metadata": {
  "kernelspec": {
   "display_name": "Python 3",
   "language": "python",
   "name": "python3"
  },
  "language_info": {
   "codemirror_mode": {
    "name": "ipython",
    "version": 3
   },
   "file_extension": ".py",
   "mimetype": "text/x-python",
   "name": "python",
   "nbconvert_exporter": "python",
   "pygments_lexer": "ipython3",
   "version": "3.8.8"
  }
 },
 "nbformat": 4,
 "nbformat_minor": 5
}
