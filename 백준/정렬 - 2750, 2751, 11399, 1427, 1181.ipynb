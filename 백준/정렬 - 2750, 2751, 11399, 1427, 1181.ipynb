{
 "cells": [
  {
   "cell_type": "markdown",
   "id": "15255145",
   "metadata": {},
   "source": [
    "2750(수 정렬하기)"
   ]
  },
  {
   "cell_type": "code",
   "execution_count": null,
   "id": "029b558e",
   "metadata": {},
   "outputs": [],
   "source": [
    "n = int(input())\n",
    "result = []\n",
    "for _ in range(n):\n",
    "    result.append(int(input()))\n",
    "result.sort()\n",
    "for i in result:\n",
    "    print(i)"
   ]
  },
  {
   "cell_type": "markdown",
   "id": "6a9a2611",
   "metadata": {},
   "source": [
    "2751(수 정렬하기 2)"
   ]
  },
  {
   "cell_type": "code",
   "execution_count": null,
   "id": "f77f13bd",
   "metadata": {},
   "outputs": [],
   "source": [
    "n = int(input())\n",
    "result = []\n",
    "for _ in range(n):\n",
    "    result.append(int(input()))\n",
    "result.sort(reverse = True)\n",
    "for i in result:\n",
    "    print(i)"
   ]
  },
  {
   "cell_type": "code",
   "execution_count": 5,
   "id": "3e87ddf5",
   "metadata": {},
   "outputs": [
    {
     "name": "stdout",
     "output_type": "stream",
     "text": [
      "5\n",
      "5\n",
      "4\n",
      "3\n",
      "2\n",
      "1\n",
      "1\n",
      "2\n",
      "3\n",
      "4\n",
      "5\n"
     ]
    }
   ],
   "source": [
    "n = int(input())\n",
    "result = [0] * 1000001\n",
    "for _ in range(n):\n",
    "    result[int(input())] += 1\n",
    "cnt = 0\n",
    "for i in range(len(result)):\n",
    "    for j in range(result[i]):\n",
    "        print(i)\n",
    "        cnt += 1\n",
    "    if cnt >= n:\n",
    "        break"
   ]
  },
  {
   "cell_type": "markdown",
   "id": "6b8991ed",
   "metadata": {},
   "source": [
    "11399(ATM)"
   ]
  },
  {
   "cell_type": "code",
   "execution_count": 10,
   "id": "9e29af21",
   "metadata": {},
   "outputs": [
    {
     "name": "stdout",
     "output_type": "stream",
     "text": [
      "5\n",
      "3 1 4 3 2\n",
      "[1, 2, 3, 3, 4]\n",
      "32\n"
     ]
    }
   ],
   "source": [
    "n = int(input())\n",
    "p = list(map(int, input().split()))\n",
    "result = 0\n",
    "temp = 0\n",
    "p.sort()\n",
    "for i in p:\n",
    "    temp += i\n",
    "    result += temp\n",
    "print(result)"
   ]
  },
  {
   "cell_type": "markdown",
   "id": "0b11fd2a",
   "metadata": {},
   "source": [
    "1427(소트인사이드)"
   ]
  },
  {
   "cell_type": "code",
   "execution_count": 34,
   "id": "84ce4736",
   "metadata": {},
   "outputs": [
    {
     "name": "stdout",
     "output_type": "stream",
     "text": [
      "999998999\n",
      "[0, 0, 0, 0, 0, 0, 0, 0, 1, 8]\n",
      "['9', '9', '9', '9', '9', '9', '9', '9', '8']\n",
      "999999998\n"
     ]
    }
   ],
   "source": [
    "n = input()\n",
    "count = [0] * 10\n",
    "result = []\n",
    "for i in n:\n",
    "    count[int(i)] += 1\n",
    "for i in range(9,-1,-1):\n",
    "    while count[i] > 0:\n",
    "        result.append(str(i))\n",
    "        count[i] -= 1\n",
    "print(''.join(result))"
   ]
  },
  {
   "cell_type": "markdown",
   "id": "4e7e19f5",
   "metadata": {},
   "source": [
    "1181(단어 정렬)"
   ]
  },
  {
   "cell_type": "code",
   "execution_count": 107,
   "id": "d467c389",
   "metadata": {},
   "outputs": [
    {
     "name": "stdout",
     "output_type": "stream",
     "text": [
      "5\n",
      "but\n",
      "i\n",
      "yours\n",
      "no\n",
      "i\n",
      "i\n",
      "no\n",
      "but\n",
      "yours\n"
     ]
    }
   ],
   "source": [
    "n = int(input())\n",
    "data = [[i] for i in range(51)]\n",
    "max_length = 0\n",
    "for _ in range(n):\n",
    "    temp = input()\n",
    "    if temp not in data[len(temp)]:\n",
    "        data[len(temp)].append(temp)\n",
    "        if len(temp) > max_length:\n",
    "            max_length = len(temp)\n",
    "for i in range(max_length + 1):\n",
    "    data[i].pop(0)\n",
    "    data[i].sort()\n",
    "    while len(data[i]) > 0:\n",
    "        print(data[i].pop(0))"
   ]
  }
 ],
 "metadata": {
  "kernelspec": {
   "display_name": "Python 3",
   "language": "python",
   "name": "python3"
  },
  "language_info": {
   "codemirror_mode": {
    "name": "ipython",
    "version": 3
   },
   "file_extension": ".py",
   "mimetype": "text/x-python",
   "name": "python",
   "nbconvert_exporter": "python",
   "pygments_lexer": "ipython3",
   "version": "3.8.8"
  }
 },
 "nbformat": 4,
 "nbformat_minor": 5
}
