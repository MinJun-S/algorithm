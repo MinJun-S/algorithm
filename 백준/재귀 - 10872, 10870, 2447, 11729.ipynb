{
 "cells": [
  {
   "cell_type": "markdown",
   "id": "8f2b0f28",
   "metadata": {},
   "source": [
    "10872(팩토리얼)"
   ]
  },
  {
   "cell_type": "code",
   "execution_count": 6,
   "id": "a30385ac",
   "metadata": {},
   "outputs": [
    {
     "name": "stdout",
     "output_type": "stream",
     "text": [
      "10\n",
      "3628800\n"
     ]
    }
   ],
   "source": [
    "n = int(input())\n",
    "result = 1\n",
    "def fact(num):\n",
    "    if num > 2:\n",
    "        num *= fact(num - 1)\n",
    "    return num\n",
    "if n > 1:\n",
    "    result = fact(n)\n",
    "print(result)"
   ]
  },
  {
   "cell_type": "code",
   "execution_count": 24,
   "id": "b8d9ada7",
   "metadata": {},
   "outputs": [
    {
     "data": {
      "text/plain": [
       "120"
      ]
     },
     "execution_count": 24,
     "metadata": {},
     "output_type": "execute_result"
    }
   ],
   "source": [
    "def fact(num):\n",
    "    if num < 2:\n",
    "        return 1\n",
    "    else:\n",
    "        return num * fact(num - 1)\n",
    "fact(5)"
   ]
  },
  {
   "cell_type": "markdown",
   "id": "02548485",
   "metadata": {},
   "source": [
    "10870(피보나치 수 5)"
   ]
  },
  {
   "cell_type": "code",
   "execution_count": 34,
   "id": "00be3c9c",
   "metadata": {},
   "outputs": [
    {
     "name": "stdout",
     "output_type": "stream",
     "text": [
      "10\n",
      "55\n"
     ]
    }
   ],
   "source": [
    "n = int(input())\n",
    "def fib(num):\n",
    "    if num == 1:\n",
    "        return 1\n",
    "    elif num == 0:\n",
    "        return 0\n",
    "    else:\n",
    "        return fib(num - 1) + fib(num - 2)\n",
    "result = fib(n)\n",
    "print(result)"
   ]
  },
  {
   "cell_type": "markdown",
   "id": "093b296a",
   "metadata": {},
   "source": [
    "2447(별 찍기 - 10)"
   ]
  },
  {
   "cell_type": "code",
   "execution_count": 62,
   "id": "c8ed0486",
   "metadata": {},
   "outputs": [
    {
     "name": "stdout",
     "output_type": "stream",
     "text": [
      "3\n"
     ]
    }
   ],
   "source": [
    "n = int(input())\n",
    "data = []\n",
    "def star(num):\n",
    "    if num / 3 == 1:\n",
    "        return '*'\n",
    "    else:\n",
    "        data\n",
    "        star(num / 3)\n",
    "star(n)"
   ]
  },
  {
   "cell_type": "code",
   "execution_count": 101,
   "id": "29409988",
   "metadata": {},
   "outputs": [
    {
     "name": "stdout",
     "output_type": "stream",
     "text": [
      "3\n"
     ]
    },
    {
     "data": {
      "text/plain": [
       "[['***'], ['*', '*'], ['***']]"
      ]
     },
     "execution_count": 101,
     "metadata": {},
     "output_type": "execute_result"
    }
   ],
   "source": [
    "n = int(input())\n",
    "data = [[] for i in range(3)]\n",
    "def empty(x):\n",
    "    if num == 1:\n",
    "        return\n",
    "    else:\n",
    "        num\n",
    "def star(num):\n",
    "    if num == 1:\n",
    "        return '*'\n",
    "    else:\n",
    "        for i in range(3):\n",
    "            if i == 1:\n",
    "                data[i].append(star(num / 3))\n",
    "                data[i].append(empty(num / 3))\n",
    "                data[i].append(star(num / 3))\n",
    "            else:\n",
    "                data[i].append(star(num / 3))\n",
    "                data[i].append(star(num / 3))\n",
    "                data[i].append(star(num / 3))\n",
    "        return data\n",
    "data = star(n)\n",
    "for i in range(3):\n",
    "    "
   ]
  },
  {
   "cell_type": "markdown",
   "id": "022ef654",
   "metadata": {},
   "source": [
    "11729(하노이 탑 이동 순서)"
   ]
  },
  {
   "cell_type": "code",
   "execution_count": 58,
   "id": "bb28c7d6",
   "metadata": {},
   "outputs": [
    {
     "name": "stdout",
     "output_type": "stream",
     "text": [
      "3\n",
      "7\n",
      "1 3\n",
      "1 2\n",
      "3 2\n",
      "1 3\n",
      "2 1\n",
      "2 3\n",
      "1 3\n"
     ]
    }
   ],
   "source": [
    "n = int(input())\n",
    "data = []\n",
    "def hanoi(num, s, e, v, cnt):\n",
    "    if num == 1:\n",
    "        data.append((s,e))\n",
    "        cnt += 1\n",
    "        return cnt\n",
    "    else:\n",
    "        cnt = hanoi(num - 1, s, v, e, cnt)\n",
    "        data.append((s,e))\n",
    "        cnt += 1\n",
    "        cnt = hanoi(num - 1, v, e, s, cnt)\n",
    "        return cnt\n",
    "print(hanoi(n, 1, 3, 2, 0))\n",
    "for s, e in data:\n",
    "    print(s, e)"
   ]
  }
 ],
 "metadata": {
  "kernelspec": {
   "display_name": "Python 3",
   "language": "python",
   "name": "python3"
  },
  "language_info": {
   "codemirror_mode": {
    "name": "ipython",
    "version": 3
   },
   "file_extension": ".py",
   "mimetype": "text/x-python",
   "name": "python",
   "nbconvert_exporter": "python",
   "pygments_lexer": "ipython3",
   "version": "3.8.8"
  }
 },
 "nbformat": 4,
 "nbformat_minor": 5
}
