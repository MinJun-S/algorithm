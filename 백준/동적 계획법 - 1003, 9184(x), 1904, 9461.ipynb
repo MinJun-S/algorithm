{
 "cells": [
  {
   "cell_type": "markdown",
   "id": "04374e13",
   "metadata": {},
   "source": [
    "1003(피보나치 함수)"
   ]
  },
  {
   "cell_type": "code",
   "execution_count": 11,
   "id": "6eaa580a",
   "metadata": {},
   "outputs": [
    {
     "name": "stdout",
     "output_type": "stream",
     "text": [
      "1\n",
      "22\n",
      "10946 17711\n"
     ]
    }
   ],
   "source": [
    "t = int(input())\n",
    "data = [(0,0)] * 41\n",
    "\n",
    "def fib(x):\n",
    "    global fib0\n",
    "    global fib1\n",
    "    if data[x] != (0,0):\n",
    "        return data[x]\n",
    "    if x == 0:\n",
    "        data[0] = (1,0)\n",
    "        return (1,0)\n",
    "    elif x == 1:\n",
    "        data[1] = (0,1)\n",
    "        return (0,1)\n",
    "    else:\n",
    "        temp1 = fib(x - 1)\n",
    "        temp2 = fib(x - 2)\n",
    "        data[x] = (temp1[0] + temp2[0], temp1[1] + temp2[1])\n",
    "        return data[x]\n",
    "\n",
    "for _ in range(t):\n",
    "    fib1, fib0 = 0, 0\n",
    "    result = fib(int(input()))\n",
    "    print(result[0], result[1])"
   ]
  },
  {
   "cell_type": "markdown",
   "id": "e6ab3df7",
   "metadata": {},
   "source": [
    "9184(신나는 함수 실행)"
   ]
  },
  {
   "cell_type": "code",
   "execution_count": 41,
   "id": "ee0b3c0f",
   "metadata": {},
   "outputs": [
    {
     "name": "stdout",
     "output_type": "stream",
     "text": [
      "-1 0 10\n",
      "w(-1, 0, 10) = 1\n",
      "-1 -1 -1\n"
     ]
    }
   ],
   "source": [
    "import numpy as np\n",
    "\n",
    "def w(a,b,c):\n",
    "    if a > 20 or b > 20 or c > 20:\n",
    "        return w(20,20,20)\n",
    "    if a <= 0 or b <= 0 or c <= 0:\n",
    "        return 1\n",
    "    if data[a][b][c] != 0:\n",
    "        return data[a][b][c]\n",
    "    if a < b and b < c:\n",
    "        data[a][b][c - 1] = w(a, b, c - 1)\n",
    "        data[a][b - 1][c - 1] = w(a, b - 1, c - 1)\n",
    "        data[a][b - 1][c] = w(a, b - 1, c)\n",
    "        return data[a][b][c - 1] + data[a][b - 1][c - 1] - data[a][b - 1][c]\n",
    "    else:\n",
    "        data[a - 1][b][c] = w(a - 1, b, c)\n",
    "        data[a - 1][b - 1][c] = w(a - 1, b - 1, c)\n",
    "        data[a - 1][b][c - 1] = w(a - 1, b, c - 1)\n",
    "        data[a - 1][b - 1][c - 1] = w(a - 1, b - 1, c - 1)\n",
    "        return data[a - 1][b][c] + data[a - 1][b - 1][c] + data[a - 1][b][c - 1] - data[a - 1][b - 1][c - 1]\n",
    "    \n",
    "#data =  [[[0]* 21 for _ in range(21)] for _ in range(21)]\n",
    "data = np.zeros((21, 21, 21))\n",
    "while True:\n",
    "    x, y, z = map(int, input().split())\n",
    "    if x == -1 and y == -1 and z == -1:\n",
    "        break\n",
    "    else:\n",
    "        print(\"w({}, {}, {}) =\".format(x,y,z), w(x, y, z))"
   ]
  },
  {
   "cell_type": "code",
   "execution_count": 40,
   "id": "3cfc1fdf",
   "metadata": {},
   "outputs": [
    {
     "name": "stdout",
     "output_type": "stream",
     "text": [
      "10 4 6\n",
      "w(10, 4, 6) = 523\n",
      "-1 -1 -1\n"
     ]
    }
   ],
   "source": [
    "import numpy as np\n",
    "\n",
    "def w(a,b,c):\n",
    "    if a > 20 or b > 20 or c > 20:\n",
    "        return w(20,20,20)\n",
    "    if a <= 0 or b <= 0 or c <= 0:\n",
    "        return 1\n",
    "    if data[a, b, c] != 0:\n",
    "        return data[a, b, c]\n",
    "    if a < b and b < c:\n",
    "        data[a, b, c - 1] = w(a, b, c - 1)\n",
    "        data[a, b - 1, c - 1] = w(a, b - 1, c - 1)\n",
    "        data[a, b - 1, c] = w(a, b - 1, c)\n",
    "        return data[a, b, c - 1] + data[a, b - 1, c - 1] - data[a, b - 1, c]\n",
    "    else:\n",
    "        data[a - 1, b, c] = w(a - 1, b, c)\n",
    "        data[a - 1, b - 1, c] = w(a - 1, b - 1, c)\n",
    "        data[a - 1, b, c - 1] = w(a - 1, b, c - 1)\n",
    "        data[a - 1, b - 1, c - 1] = w(a - 1, b - 1, c - 1)\n",
    "        return data[a - 1, b, c] + data[a - 1, b - 1, c] + data[a - 1, b, c - 1] - data[a - 1, b - 1, c - 1]\n",
    "    \n",
    "#data =  [[[0]* 21 for _ in range(21)] for _ in range(21)]\n",
    "data = np.zeros((21,21,21))\n",
    "while True:\n",
    "    x, y, z = map(int, input().split())\n",
    "    if x == -1 and y == -1 and z == -1:\n",
    "        break\n",
    "    else:\n",
    "        print(\"w({}, {}, {}) =\".format(x,y,z), int(w(x, y, z)))"
   ]
  },
  {
   "cell_type": "markdown",
   "id": "0d0a7e02",
   "metadata": {},
   "source": [
    "1904(01타일)"
   ]
  },
  {
   "cell_type": "code",
   "execution_count": 23,
   "id": "5062fd17",
   "metadata": {},
   "outputs": [
    {
     "name": "stdout",
     "output_type": "stream",
     "text": [
      "5\n",
      "8\n"
     ]
    }
   ],
   "source": [
    "n = int(input())\n",
    "\n",
    "def check(y):\n",
    "    if y >= 15746:\n",
    "        return y % 15746\n",
    "    else:\n",
    "        return y\n",
    "\n",
    "if n == 1:\n",
    "    print(1)\n",
    "else:\n",
    "    data = [0] * (n+1)\n",
    "    data[1] = 1\n",
    "    data[2] = 2\n",
    "    for i in range(3,n+1):\n",
    "        data[i] = check(data[i-1] + data[i-2])\n",
    "    print(data[n])"
   ]
  },
  {
   "cell_type": "markdown",
   "id": "c32cd150",
   "metadata": {},
   "source": [
    "최대 재귀 깊이"
   ]
  },
  {
   "cell_type": "code",
   "execution_count": 67,
   "id": "4232738e",
   "metadata": {},
   "outputs": [
    {
     "data": {
      "text/plain": [
       "3000"
      ]
     },
     "execution_count": 67,
     "metadata": {},
     "output_type": "execute_result"
    }
   ],
   "source": [
    "import sys\n",
    "sys.getrecursionlimit()"
   ]
  },
  {
   "cell_type": "markdown",
   "id": "fd832f54",
   "metadata": {},
   "source": [
    "최대 재귀 깊이 변경"
   ]
  },
  {
   "cell_type": "markdown",
   "id": "d690eefa",
   "metadata": {},
   "source": [
    "sys.setrecursionlimit(10**6)"
   ]
  },
  {
   "cell_type": "markdown",
   "id": "a19f6481",
   "metadata": {},
   "source": [
    "9461(파도반 수열)"
   ]
  },
  {
   "cell_type": "code",
   "execution_count": 33,
   "id": "4848d923",
   "metadata": {},
   "outputs": [
    {
     "name": "stdout",
     "output_type": "stream",
     "text": [
      "5\n",
      "10\n",
      "9\n",
      "20\n",
      "151\n",
      "100\n",
      "888855064897\n",
      "99\n",
      "670976837021\n",
      "15\n",
      "37\n"
     ]
    }
   ],
   "source": [
    "def P(n):\n",
    "    if data[n] != 0:\n",
    "        return data[n]\n",
    "    else:\n",
    "        data[n] = P(n-1) + P(n-5)\n",
    "        return data[n]\n",
    "\n",
    "data = [0,1,1,1,2,2] + [0] * 100\n",
    "for _ in range(int(input())):\n",
    "    print(P(int(input())))"
   ]
  }
 ],
 "metadata": {
  "kernelspec": {
   "display_name": "Python 3",
   "language": "python",
   "name": "python3"
  },
  "language_info": {
   "codemirror_mode": {
    "name": "ipython",
    "version": 3
   },
   "file_extension": ".py",
   "mimetype": "text/x-python",
   "name": "python",
   "nbconvert_exporter": "python",
   "pygments_lexer": "ipython3",
   "version": "3.8.8"
  }
 },
 "nbformat": 4,
 "nbformat_minor": 5
}
